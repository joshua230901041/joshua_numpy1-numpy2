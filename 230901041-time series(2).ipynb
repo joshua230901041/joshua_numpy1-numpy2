{
 "cells": [
  {
   "cell_type": "code",
   "execution_count": 1,
   "id": "9ef43d5d-a8ab-4a9e-8d55-7c53f660fc4c",
   "metadata": {},
   "outputs": [
    {
     "name": "stdout",
     "output_type": "stream",
     "text": [
      "2025-04-21 21:43:36.093179\n"
     ]
    }
   ],
   "source": [
    "import datetime\n",
    "a=datetime.datetime.now()\n",
    "print(a)"
   ]
  },
  {
   "cell_type": "code",
   "execution_count": 3,
   "id": "e4403bac-20f1-4949-a332-4d221cd95581",
   "metadata": {},
   "outputs": [
    {
     "name": "stdout",
     "output_type": "stream",
     "text": [
      "Two digit year: 25\n"
     ]
    }
   ],
   "source": [
    "\n",
    "res=a.strftime(\"%y\")\n",
    "print(\"Two digit year:\",res)"
   ]
  },
  {
   "cell_type": "code",
   "execution_count": 5,
   "id": "e1b0a3a1-d124-4371-9df4-7c69cb5111ce",
   "metadata": {},
   "outputs": [
    {
     "name": "stdout",
     "output_type": "stream",
     "text": [
      "Four digit year: 2025\n"
     ]
    }
   ],
   "source": [
    "r=a.strftime(\"%Y\")\n",
    "print(\"Four digit year:\",r)"
   ]
  },
  {
   "cell_type": "code",
   "execution_count": 7,
   "id": "654d6b98-b202-47b7-9f4a-10c52432d43b",
   "metadata": {},
   "outputs": [
    {
     "name": "stdout",
     "output_type": "stream",
     "text": [
      "Two digit month[1,12]: 04\n"
     ]
    }
   ],
   "source": [
    "res=a.strftime(\"%m\")\n",
    "print(\"Two digit month[1,12]:\",res)"
   ]
  },
  {
   "cell_type": "code",
   "execution_count": 9,
   "id": "6db60b4b-c1da-49a6-aa3a-4051b15afa3b",
   "metadata": {},
   "outputs": [
    {
     "name": "stdout",
     "output_type": "stream",
     "text": [
      "Short version of month Apr\n"
     ]
    }
   ],
   "source": [
    "res=a.strftime(\"%b\")\n",
    "print(\"Short version of month\",res)"
   ]
  },
  {
   "cell_type": "code",
   "execution_count": 11,
   "id": "55843d7d-25ba-44a9-ac5b-732aa5239266",
   "metadata": {},
   "outputs": [
    {
     "name": "stdout",
     "output_type": "stream",
     "text": [
      "Full version of month April\n"
     ]
    }
   ],
   "source": [
    "res=a.strftime(\"%B\")\n",
    "print(\"Full version of month\",res)"
   ]
  },
  {
   "cell_type": "code",
   "execution_count": 13,
   "id": "0653e2d6-3941-4682-b2ab-760d86b3495b",
   "metadata": {},
   "outputs": [
    {
     "name": "stdout",
     "output_type": "stream",
     "text": [
      "Days of the year: 111\n"
     ]
    }
   ],
   "source": [
    "res=a.strftime(\"%j\")\n",
    "print(\"Days of the year:\",res)"
   ]
  },
  {
   "cell_type": "code",
   "execution_count": 15,
   "id": "62c35f89-a300-4afd-99d6-22bc0a08ae0a",
   "metadata": {},
   "outputs": [
    {
     "name": "stdout",
     "output_type": "stream",
     "text": [
      "Short cut for %m/%d/%y: 04/21/25\n"
     ]
    }
   ],
   "source": [
    "res=a.strftime(\"%D\")\n",
    "print(\"Short cut for %m/%d/%y:\",res)"
   ]
  },
  {
   "cell_type": "code",
   "execution_count": 17,
   "id": "c7e37d56-154a-48a3-946d-3a4f6ac0a7f7",
   "metadata": {},
   "outputs": [
    {
     "name": "stdout",
     "output_type": "stream",
     "text": [
      "Two digit day[01,31]: 21\n"
     ]
    }
   ],
   "source": [
    "res=a.strftime(\"%d\")\n",
    "print(\"Two digit day[01,31]:\",res)"
   ]
  },
  {
   "cell_type": "code",
   "execution_count": 19,
   "id": "2ec7ca0c-3189-4b64-b926-2da34e7c0c1b",
   "metadata": {},
   "outputs": [
    {
     "name": "stdout",
     "output_type": "stream",
     "text": [
      "Short version of day Mon\n"
     ]
    }
   ],
   "source": [
    "res=a.strftime(\"%a\")\n",
    "print(\"Short version of day\",res)"
   ]
  },
  {
   "cell_type": "code",
   "execution_count": 21,
   "id": "9293684e-ca78-41ae-8e24-11b244bb3f04",
   "metadata": {},
   "outputs": [
    {
     "name": "stdout",
     "output_type": "stream",
     "text": [
      "Full name of day Monday\n"
     ]
    }
   ],
   "source": [
    "res=a.strftime(\"%A\")\n",
    "print(\"Full name of day\",res)"
   ]
  },
  {
   "cell_type": "code",
   "execution_count": 23,
   "id": "27f3e007-2472-4f07-a405-1d3b29fddfd1",
   "metadata": {},
   "outputs": [
    {
     "name": "stdout",
     "output_type": "stream",
     "text": [
      "Hour[01,23] 21\n"
     ]
    }
   ],
   "source": [
    "res=a.strftime(\"%H\")\n",
    "print(\"Hour[01,23]\",res)"
   ]
  },
  {
   "cell_type": "code",
   "execution_count": 25,
   "id": "ef28ed64-365b-4861-b7da-910dcfe5e30e",
   "metadata": {},
   "outputs": [
    {
     "name": "stdout",
     "output_type": "stream",
     "text": [
      "Hour[01,12] 09\n"
     ]
    }
   ],
   "source": [
    "\n",
    "res=a.strftime(\"%I\")\n",
    "print(\"Hour[01,12]\",res)"
   ]
  },
  {
   "cell_type": "code",
   "execution_count": 27,
   "id": "d47d6a66-534f-4285-8866-9ea7f27c12a1",
   "metadata": {},
   "outputs": [
    {
     "name": "stdout",
     "output_type": "stream",
     "text": [
      "\n",
      "Two-digit minute [00, 59]: 43\n"
     ]
    }
   ],
   "source": [
    "res=a.strftime(\"%M\")\n",
    "print(\"\\nTwo-digit minute [00, 59]:\",res)"
   ]
  },
  {
   "cell_type": "code",
   "execution_count": 29,
   "id": "391b02ee-38fb-415a-9845-66bdeb892472",
   "metadata": {},
   "outputs": [
    {
     "name": "stdout",
     "output_type": "stream",
     "text": [
      "\n",
      "Seconds[00,61] 36\n"
     ]
    }
   ],
   "source": [
    "res=a.strftime(\"%S\")\n",
    "print(\"\\nSeconds[00,61]\",res)"
   ]
  },
  {
   "cell_type": "code",
   "execution_count": 31,
   "id": "afc8c0bc-9add-403f-bd8f-daeec3b57d73",
   "metadata": {},
   "outputs": [
    {
     "name": "stdout",
     "output_type": "stream",
     "text": [
      "Short cut for %y/%m/%d: 2025-04-21\n"
     ]
    }
   ],
   "source": [
    "res=a.strftime(\"%F\")\n",
    "print(\"Short cut for %y/%m/%d:\",res)"
   ]
  },
  {
   "cell_type": "code",
   "execution_count": 33,
   "id": "180bf355-c396-4bc3-a496-dd26961c50fc",
   "metadata": {},
   "outputs": [
    {
     "name": "stdout",
     "output_type": "stream",
     "text": [
      "Microsecond of an integer[000000,999999]: 093179\n"
     ]
    }
   ],
   "source": [
    "res=a.strftime(\"%f\")\n",
    "print(\"Microsecond of an integer[000000,999999]:\",res)"
   ]
  },
  {
   "cell_type": "code",
   "execution_count": 35,
   "id": "87b1411e-be5a-4d40-9db0-264f20f54c53",
   "metadata": {},
   "outputs": [
    {
     "name": "stdout",
     "output_type": "stream",
     "text": [
      "Locate equivalent of AM or PM: PM\n"
     ]
    }
   ],
   "source": [
    "res=a.strftime(\"%p\")\n",
    "print(\"Locate equivalent of AM or PM:\",res)"
   ]
  },
  {
   "cell_type": "code",
   "execution_count": 37,
   "id": "44c70714-dbeb-4a49-9665-0f7ce69de852",
   "metadata": {},
   "outputs": [
    {
     "name": "stdout",
     "output_type": "stream",
     "text": [
      "Locate appropriate formatted date: 04/21/25\n"
     ]
    }
   ],
   "source": [
    "res=a.strftime(\"%x\")\n",
    "print(\"Locate appropriate formatted date:\",res)"
   ]
  },
  {
   "cell_type": "code",
   "execution_count": 39,
   "id": "6a913bf1-0a2f-4019-9333-5d008cf62468",
   "metadata": {},
   "outputs": [
    {
     "name": "stdout",
     "output_type": "stream",
     "text": [
      "Locate appropriate formatted time: 21:43:36\n"
     ]
    }
   ],
   "source": [
    "res=a.strftime(\"%X\")\n",
    "print(\"Locate appropriate formatted time:\",res)"
   ]
  },
  {
   "cell_type": "code",
   "execution_count": null,
   "id": "07502ef7-3aa5-4030-91ec-de0b85c30b6a",
   "metadata": {},
   "outputs": [],
   "source": []
  },
  {
   "cell_type": "code",
   "execution_count": null,
   "id": "d683f302-3821-4c1d-a744-c9818ec9e340",
   "metadata": {},
   "outputs": [],
   "source": []
  }
 ],
 "metadata": {
  "kernelspec": {
   "display_name": "Python [conda env:base] *",
   "language": "python",
   "name": "conda-base-py"
  },
  "language_info": {
   "codemirror_mode": {
    "name": "ipython",
    "version": 3
   },
   "file_extension": ".py",
   "mimetype": "text/x-python",
   "name": "python",
   "nbconvert_exporter": "python",
   "pygments_lexer": "ipython3",
   "version": "3.12.7"
  }
 },
 "nbformat": 4,
 "nbformat_minor": 5
}
