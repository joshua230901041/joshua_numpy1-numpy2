{
 "cells": [
  {
   "cell_type": "code",
   "execution_count": null,
   "id": "92e0931c-128d-4abf-8b4d-0a8bece2f329",
   "metadata": {},
   "outputs": [],
   "source": []
  }
 ],
 "metadata": {
  "kernelspec": {
   "display_name": "",
   "name": ""
  },
  "language_info": {
   "name": ""
  }
 },
 "nbformat": 4,
 "nbformat_minor": 5
}
