{
 "cells": [
  {
   "cell_type": "code",
   "execution_count": 7,
   "id": "c0cd63b4-9ebf-4e8f-8b3e-71498650db12",
   "metadata": {},
   "outputs": [
    {
     "name": "stdout",
     "output_type": "stream",
     "text": [
      "       a  b  c\n",
      "one    1  2  3\n",
      "two    4  5  6\n",
      "three  7  8  9\n"
     ]
    }
   ],
   "source": [
    "import pandas as pd \n",
    "df=pd.DataFrame([[1,2,3],[4,5,6],[7,8,9]],index=['one','two','three'],columns=['a','b','c'])\n",
    "print(df)"
   ]
  },
  {
   "cell_type": "code",
   "execution_count": 9,
   "id": "02d271fc-562a-4358-bb34-809dd1582457",
   "metadata": {},
   "outputs": [],
   "source": [
    "df.to_excel(\"/Users/student/Downloads/230901041-simon.xlsx\")\n",
    "df.to_excel(\"/Users/student/Downloads/230901041-joshua.xlsx\")"
   ]
  },
  {
   "cell_type": "code",
   "execution_count": 11,
   "id": "4822670d-523c-47f2-99d4-4455017936fd",
   "metadata": {},
   "outputs": [],
   "source": [
    "df=pd.DataFrame([[10,20,30],[40,50,60],[70,80,90]],index=['four','five','six'],columns=['X','Y','Z'])\n",
    "df.to_excel(\"/Users/student/Downloads/230901041-simon.xlsx\",sheet_name=\"sheet1\")"
   ]
  },
  {
   "cell_type": "code",
   "execution_count": 13,
   "id": "33948a84-b945-4a26-b2de-ad8b4a674960",
   "metadata": {},
   "outputs": [],
   "source": [
    "df=pd.DataFrame([[6,7],[1,2]],index=['a','b'],columns=['X','Y'])\n",
    "df.to_excel(\"/Users/student/Downloads/230901041-joshua.xlsx\",sheet_name=\"sheet1\")"
   ]
  },
  {
   "cell_type": "code",
   "execution_count": 15,
   "id": "132fc555-2d6c-453c-a745-f2a5fad1d7bc",
   "metadata": {},
   "outputs": [
    {
     "name": "stderr",
     "output_type": "stream",
     "text": [
      "/var/folders/8b/jn2fbgkx0fs3qmvnb8qh1gww0000gp/T/ipykernel_4538/708163484.py:4: FutureWarning: The frame.append method is deprecated and will be removed from pandas in a future version. Use pandas.concat instead.\n",
      "  Z=X.append(Y)\n"
     ]
    }
   ],
   "source": [
    "import pandas as pd \n",
    "X=pd.read_excel(\"/Users/student/Downloads/230901041-simon.xlsx\")\n",
    "Y=pd.read_excel(\"/Users/student/Downloads/230901041-joshua.xlsx\")\n",
    "Z=X.append(Y)\n",
    "Z.to_excel(\"/Users/student/Downloads/230901041-motha.xlsx\")"
   ]
  },
  {
   "cell_type": "code",
   "execution_count": 17,
   "id": "efb293fd-f785-4174-91e9-3e01f8c36262",
   "metadata": {},
   "outputs": [
    {
     "name": "stdout",
     "output_type": "stream",
     "text": [
      "  Unnamed: 0   X   Y     Z\n",
      "1          b   1   2   NaN\n",
      "0          a   6   7   NaN\n",
      "0       four  10  20  30.0\n",
      "1       five  40  50  60.0\n",
      "2        six  70  80  90.0\n"
     ]
    }
   ],
   "source": [
    "df=Z.sort_values([\"X\"])\n",
    "print(df)\n",
    "df.to_excel(\"/Users/student/Downloads/230901041-motha.xlsx\")"
   ]
  },
  {
   "cell_type": "code",
   "execution_count": 19,
   "id": "944da4a8-04f6-48cc-8180-168acbfc09ee",
   "metadata": {},
   "outputs": [
    {
     "name": "stdout",
     "output_type": "stream",
     "text": [
      "  Unnamed: 0   X   Y     Z\n",
      "1          b   1   2   NaN\n",
      "0          a   6   7   NaN\n",
      "0       four  10  20  30.0\n",
      "1       five  40  50  60.0\n",
      "2        six  70  80  90.0\n"
     ]
    }
   ],
   "source": [
    "df=Z.sort_values([\"Y\"])\n",
    "print(df)\n",
    "df.to_excel(\"/Users/student/Downloads/230901041-motha.xlsx\")"
   ]
  },
  {
   "cell_type": "code",
   "execution_count": 41,
   "id": "6c68a965-a507-4f73-a0d7-d36db8eda971",
   "metadata": {},
   "outputs": [
    {
     "name": "stdout",
     "output_type": "stream",
     "text": [
      "  Unnamed: 0   X   Y   Z\n",
      "0       four  10  20  30\n",
      "1       five  40  50  60\n",
      "2        six  70  80  90\n",
      "['Unnamed: 0', 'X', 'Y', 'Z']\n",
      "3\n"
     ]
    }
   ],
   "source": [
    "df=pd.read_excel(\"/Users/student/Downloads/230901041-simon.xlsx\")\n",
    "print(df)\n",
    "print(list(df)) #Print the column names as list\n",
    "print(format(len(df)))"
   ]
  },
  {
   "cell_type": "code",
   "execution_count": null,
   "id": "c5afae6c-3296-4326-9b46-c778fb7462c8",
   "metadata": {},
   "outputs": [],
   "source": []
  }
 ],
 "metadata": {
  "kernelspec": {
   "display_name": "Python [conda env:anaconda3]",
   "language": "python",
   "name": "conda-env-anaconda3-py"
  },
  "language_info": {
   "codemirror_mode": {
    "name": "ipython",
    "version": 3
   },
   "file_extension": ".py",
   "mimetype": "text/x-python",
   "name": "python",
   "nbconvert_exporter": "python",
   "pygments_lexer": "ipython3",
   "version": "3.11.3"
  }
 },
 "nbformat": 4,
 "nbformat_minor": 5
}
