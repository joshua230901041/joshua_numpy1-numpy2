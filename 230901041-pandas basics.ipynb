{
 "cells": [
  {
   "cell_type": "code",
   "execution_count": 2,
   "id": "a0df4b66",
   "metadata": {},
   "outputs": [
    {
     "name": "stdout",
     "output_type": "stream",
     "text": [
      "Empty DataFrame\n",
      "Columns: []\n",
      "Index: []\n"
     ]
    }
   ],
   "source": [
    "import pandas as pd\n",
    "df=pd.DataFrame()\n",
    "print(df)"
   ]
  },
  {
   "cell_type": "code",
   "execution_count": 17,
   "id": "2d7451f7",
   "metadata": {},
   "outputs": [
    {
     "name": "stdout",
     "output_type": "stream",
     "text": [
      "\n",
      "Series to DataFrame\n",
      "\n",
      "      Emp  ID\n",
      "0     uma  10\n",
      "1    siva  20\n",
      "2  sindhu  30\n",
      "3    ravi  40\n",
      "\n",
      "ExtractingOneColumn\n",
      "\n",
      "0       uma\n",
      "1      siva\n",
      "2    sindhu\n",
      "3      ravi\n",
      "Name: Emp, dtype: object\n",
      "\n",
      "      Emp  ID  Age\n",
      "0     uma  10   20\n",
      "1    siva  20   25\n",
      "2  sindhu  30   30\n",
      "3    ravi  40   50\n",
      "\n",
      "      Emp  Age\n",
      "0     uma   20\n",
      "1    siva   25\n",
      "2  sindhu   30\n",
      "3    ravi   50\n",
      "\n",
      "\n",
      "Extracting the second row:\n",
      "\n",
      "Emp    siva\n",
      "Age      25\n",
      "Name: 1, dtype: object\n",
      "\n",
      "Slice rows;\n",
      "       Emp  Age\n",
      "1    siva   25\n",
      "2  sindhu   30\n"
     ]
    }
   ],
   "source": [
    "import pandas as pd \n",
    "emp=pd.Series(['uma','siva','sindhu','ravi'])\n",
    "id=pd.Series([10,20,30,40])\n",
    "frame={'Emp':emp,'ID':id}\n",
    "result=pd.DataFrame(frame)\n",
    "print(\"\\nSeries to DataFrame\\n\")\n",
    "print(result)\n",
    "print(\"\\nExtractingOneColumn\\n\")\n",
    "print(result['Emp'])\n",
    "print()\n",
    "result['Age']=pd.Series([20,25,30,50])\n",
    "print(result)\n",
    "print()\n",
    "del result['ID']\n",
    "print(result)\n",
    "print()\n",
    "print(\"\\nExtracting the second row:\\n\")\n",
    "print(result.loc[1])\n",
    "print()\n",
    "print('Slice rows;\\n',result[1:3])"
   ]
  },
  {
   "cell_type": "code",
   "execution_count": 24,
   "id": "88960c4a",
   "metadata": {},
   "outputs": [
    {
     "name": "stdout",
     "output_type": "stream",
     "text": [
      "\n",
      "Adding new row values:\n",
      "       Emp  Age\n",
      "0     uma   20\n",
      "1    siva   25\n",
      "2  sindhu   30\n",
      "3    ravi   50\n",
      "0     anu   20\n",
      "1    jinu   19\n"
     ]
    }
   ],
   "source": [
    "d2=pd.DataFrame([['anu',20],['jinu',19]],columns=['Emp','Age'])\n",
    "print(\"\\nAdding new row values:\\n\",pd.concat([result,d2]))"
   ]
  },
  {
   "cell_type": "code",
   "execution_count": 25,
   "id": "bd021dcb",
   "metadata": {},
   "outputs": [
    {
     "name": "stdout",
     "output_type": "stream",
     "text": [
      "    Emp  Age\n",
      "0   uma   20\n",
      "1  siva   25\n",
      "3  ravi   50\n"
     ]
    }
   ],
   "source": [
    "print(result.drop(2))"
   ]
  },
  {
   "cell_type": "code",
   "execution_count": null,
   "id": "96d193f5",
   "metadata": {},
   "outputs": [],
   "source": []
  }
 ],
 "metadata": {
  "kernelspec": {
   "display_name": "Python 3 (ipykernel)",
   "language": "python",
   "name": "python3"
  },
  "language_info": {
   "codemirror_mode": {
    "name": "ipython",
    "version": 3
   },
   "file_extension": ".py",
   "mimetype": "text/x-python",
   "name": "python",
   "nbconvert_exporter": "python",
   "pygments_lexer": "ipython3",
   "version": "3.11.5"
  }
 },
 "nbformat": 4,
 "nbformat_minor": 5
}
