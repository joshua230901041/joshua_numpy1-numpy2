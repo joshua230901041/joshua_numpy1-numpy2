{
 "cells": [
  {
   "cell_type": "code",
   "execution_count": 1,
   "id": "a18e1e41-eccc-4474-9195-eae4acc0a426",
   "metadata": {},
   "outputs": [
    {
     "name": "stdout",
     "output_type": "stream",
     "text": [
      "Today_nowfunction: 2025-04-21 21:39:24.039403\n"
     ]
    }
   ],
   "source": [
    "import datetime\n",
    "a=datetime.datetime.now()\n",
    "print(\"Today_nowfunction:\",a)"
   ]
  },
  {
   "cell_type": "code",
   "execution_count": 3,
   "id": "7cc4206a-f252-4978-aeee-9bb9a9807d8a",
   "metadata": {},
   "outputs": [
    {
     "name": "stdout",
     "output_type": "stream",
     "text": [
      "\n",
      "Today: 2025-04-21 21:39:38.602195\n"
     ]
    }
   ],
   "source": [
    "\n",
    "today=datetime.datetime.today()\n",
    "print(\"\\nToday:\",today)"
   ]
  },
  {
   "cell_type": "code",
   "execution_count": 5,
   "id": "12877fed-d88c-42b2-a670-612c7d48b556",
   "metadata": {},
   "outputs": [
    {
     "name": "stdout",
     "output_type": "stream",
     "text": [
      "\n",
      "Tommorow: 2025-04-24 21:39:38.602195\n"
     ]
    }
   ],
   "source": [
    "\n",
    "tomorrow=today+datetime.timedelta(days=3)\n",
    "print(\"\\nTommorow:\",tomorrow)"
   ]
  },
  {
   "cell_type": "code",
   "execution_count": 7,
   "id": "2c579293-2149-43de-824e-fc26c6cfef53",
   "metadata": {},
   "outputs": [
    {
     "name": "stdout",
     "output_type": "stream",
     "text": [
      "Date format[2020,6,8,23,10,25,404040]: 2020-06-08 23:10:25.404040\n"
     ]
    }
   ],
   "source": [
    "a=datetime.datetime.now()\n",
    "b=datetime.datetime(2020,6,8,23,10,25,404040)\n",
    "print(\"Date format[2020,6,8,23,10,25,404040]:\",b)"
   ]
  },
  {
   "cell_type": "code",
   "execution_count": 9,
   "id": "1dca5b02-0fec-46ea-a01b-c7610df0a4e0",
   "metadata": {},
   "outputs": [
    {
     "name": "stdout",
     "output_type": "stream",
     "text": [
      "\n",
      "Replacing date: 2024-12-31 2024-12-15\n"
     ]
    }
   ],
   "source": [
    "from datetime import date\n",
    "d=date(2024,12,31)\n",
    "print(\"\\nReplacing date:\",d,d.replace(day=15))"
   ]
  },
  {
   "cell_type": "code",
   "execution_count": 11,
   "id": "c18bbaab-5846-4526-badd-918dbe66aa3b",
   "metadata": {},
   "outputs": [
    {
     "name": "stdout",
     "output_type": "stream",
     "text": [
      "\n",
      "Today: 2025-04-21\n",
      "\n",
      "Current Year: 2025\n",
      "\n",
      "Current month: 4\n",
      "\n",
      "Current day: 21\n"
     ]
    }
   ],
   "source": [
    "today=date.today()\n",
    "print(\"\\nToday:\",today)\n",
    "print(\"\\nCurrent Year:\",today.year)\n",
    "print(\"\\nCurrent month:\",today.month)\n",
    "print(\"\\nCurrent day:\",today.day)"
   ]
  },
  {
   "cell_type": "code",
   "execution_count": null,
   "id": "f0d7a878-cb99-4835-82c0-b55ca0b33ee1",
   "metadata": {},
   "outputs": [],
   "source": []
  }
 ],
 "metadata": {
  "kernelspec": {
   "display_name": "Python [conda env:base] *",
   "language": "python",
   "name": "conda-base-py"
  },
  "language_info": {
   "codemirror_mode": {
    "name": "ipython",
    "version": 3
   },
   "file_extension": ".py",
   "mimetype": "text/x-python",
   "name": "python",
   "nbconvert_exporter": "python",
   "pygments_lexer": "ipython3",
   "version": "3.12.7"
  }
 },
 "nbformat": 4,
 "nbformat_minor": 5
}
