{
 "cells": [
  {
   "cell_type": "code",
   "execution_count": 3,
   "id": "a8af717d-7a60-44a4-b431-7d51a20a91ef",
   "metadata": {},
   "outputs": [
    {
     "name": "stdout",
     "output_type": "stream",
     "text": [
      "Original Data:\n",
      "\n",
      "   Unnamed: 0  S.no.     Name  Roll no.  English  Tamil  Maths   Science  \\\n",
      "0           0      1   Sankar         1       65     97      45       58   \n",
      "1           1      2  C Mohan         2       77     88      38       47   \n",
      "2           2      3   ramesh         3       88     66      56       76   \n",
      "3           3      4   dinesh         4       93     79      30       80   \n",
      "4           4      5   ashwin         5       65     80      40       45   \n",
      "5           5      6   jeevan         6       44     44      70       87   \n",
      "6           6      7      anu         7       89     93      89       98   \n",
      "7           7      8   mukesh         8       66     88      98       73   \n",
      "8           8      9   kishor         9       79     77      77       20   \n",
      "9           9     10     josh        10       80     65      66       78   \n",
      "\n",
      "   Social  Total  \n",
      "0      77    342  \n",
      "1      55    305  \n",
      "2      90    376  \n",
      "3      89    371  \n",
      "4      67    297  \n",
      "5      76    321  \n",
      "6      45    414  \n",
      "7      54    379  \n",
      "8      86    339  \n",
      "9      20    309  \n"
     ]
    }
   ],
   "source": [
    "import pandas as pd\n",
    "pd.set_option('display.max_columns',10)\n",
    "print(\"Original Data:\\n\")\n",
    "df=pd.read_excel(\"/Users/student/Downloads/marksexcel.xlsx\")\n",
    "print(df)"
   ]
  },
  {
   "cell_type": "code",
   "execution_count": 5,
   "id": "b964f90b-28d0-4c5a-82d0-8e814854d7c7",
   "metadata": {},
   "outputs": [],
   "source": [
    "f=df['Name'].str.strip()\n",
    "f.to_excel(\"/Users/student/Downloads/marksexcel2.xlsx\")"
   ]
  },
  {
   "cell_type": "code",
   "execution_count": 7,
   "id": "80953f71-96ef-4e77-9334-0a7ccd7b75b8",
   "metadata": {
    "scrolled": true
   },
   "outputs": [
    {
     "name": "stdout",
     "output_type": "stream",
     "text": [
      "0     Sankar\n",
      "1    C Mohan\n",
      "2     ramesh\n",
      "3     dinesh\n",
      "4     ashwin\n",
      "5     jeevan\n",
      "6        anu\n",
      "7     mukesh\n",
      "8     kishor\n",
      "9       josh\n",
      "Name: Name, dtype: object\n"
     ]
    }
   ],
   "source": [
    "print(f)"
   ]
  },
  {
   "cell_type": "code",
   "execution_count": 9,
   "id": "a0145937-065b-46b2-b5e0-c89a71948776",
   "metadata": {},
   "outputs": [
    {
     "name": "stdout",
     "output_type": "stream",
     "text": [
      "\n",
      " Replace Value:\n",
      "   Unnamed: 0  S.no.     Name  Roll no.  English  Tamil  Maths   Science  \\\n",
      "0           0      1   Sankar         1       65     97      45       58   \n",
      "1           1      2  C Mohan         2       77     88      38       47   \n",
      "2           2      3   ramesh         3       88     66      56       76   \n",
      "3           3      4   dinesh         4       93     79      30       80   \n",
      "4           4      5   ashwin         5       65     80      40       45   \n",
      "5           5      6   jeevan         6       44     44      70       87   \n",
      "6           6      7      anu         7       89     93      89       98   \n",
      "7           7      8   mukesh         8       66     88      98       73   \n",
      "8           8      9   kishor         9       79     77      77       20   \n",
      "9           9     10     josh        10       80     65      66       78   \n",
      "\n",
      "   Social  Total  \n",
      "0      77    342  \n",
      "1      55    305  \n",
      "2      90    376  \n",
      "3      89    371  \n",
      "4      67    297  \n",
      "5      76    321  \n",
      "6      45    414  \n",
      "7      54    379  \n",
      "8      86    339  \n",
      "9      20    309  \n",
      "\n",
      "\n"
     ]
    }
   ],
   "source": [
    "print(\"\\n Replace Value:\")\n",
    "k=df.fillna(method=\"Pad\")\n",
    "print(k)\n",
    "print(\"\\n\")\n",
    "k.to_excel(\"/Users/student/Downloads/marksexcel.xlsx\")"
   ]
  },
  {
   "cell_type": "code",
   "execution_count": 11,
   "id": "11674f56-b3bd-4108-ac82-9e5bb221243a",
   "metadata": {},
   "outputs": [
    {
     "name": "stdout",
     "output_type": "stream",
     "text": [
      "\n",
      "\n",
      "   Unnamed: 0  S.no.     Name  Roll no.  English  Tamil  Maths   Science  \\\n",
      "0           0      1   Sankar         1       65     97      45       58   \n",
      "1           1      2  C Mohan         2       77     88      38       47   \n",
      "2           2      3   ramesh         3       88     66      56       76   \n",
      "3           3      4   dinesh         4       93     79      30       80   \n",
      "4           4      5   ashwin         5       65     80      40       45   \n",
      "5           5      6   jeevan         6       44     44      70       87   \n",
      "6           6      7      anu         7       89     93      89       98   \n",
      "7           7      8   mukesh         8       66     88      98       73   \n",
      "8           8      9   kishor         9       79     77      77       20   \n",
      "9           9     10     josh        10       80     65      66       78   \n",
      "\n",
      "   Social  \n",
      "0      77  \n",
      "1      55  \n",
      "2      90  \n",
      "3      89  \n",
      "4      67  \n",
      "5      76  \n",
      "6      45  \n",
      "7      54  \n",
      "8      86  \n",
      "9      20  \n",
      "\n",
      "\n"
     ]
    }
   ],
   "source": [
    "#drop one particular column\n",
    "print(\"\\n\")\n",
    "k.drop(['Total'],axis=1,inplace=True)\n",
    "print(k)\n",
    "print(\"\\n\")\n",
    "k.to_excel(\"/Users/student/Downloads/marksexcel.xlsx\")"
   ]
  },
  {
   "cell_type": "code",
   "execution_count": 13,
   "id": "172625ad-c1eb-4286-9706-12d5b9a13aeb",
   "metadata": {},
   "outputs": [
    {
     "name": "stdout",
     "output_type": "stream",
     "text": [
      "   Unnamed: 0.1  Unnamed: 0  S.no.     Name  Roll no.  English  Tamil  Maths   \\\n",
      "0             0           0      1   Sankar         1       65     97      45   \n",
      "1             1           1      2  C Mohan         2       77     88      38   \n",
      "2             2           2      3   ramesh         3       88     66      56   \n",
      "3             3           3      4   dinesh         4       93     79      30   \n",
      "4             4           4      5   ashwin         5       65     80      40   \n",
      "5             5           5      6   jeevan         6       44     44      70   \n",
      "6             6           6      7      anu         7       89     93      89   \n",
      "7             7           7      8   mukesh         8       66     88      98   \n",
      "8             8           8      9   kishor         9       79     77      77   \n",
      "9             9           9     10     josh        10       80     65      66   \n",
      "\n",
      "   Science  Social  \n",
      "0       58      77  \n",
      "1       47      55  \n",
      "2       76      90  \n",
      "3       80      89  \n",
      "4       45      67  \n",
      "5       87      76  \n",
      "6       98      45  \n",
      "7       73      54  \n",
      "8       20      86  \n",
      "9       78      20  \n",
      "   Unnamed: 0.1  Unnamed: 0  S.no.     Name  Roll no.  English  Tamil  Maths   \\\n",
      "0             0           0      1   Sankar         1       65     97      45   \n",
      "1             1           1      2  C Mohan         2       77     88      38   \n",
      "2             2           2      3   ramesh         3       88     66      56   \n",
      "3             3           3      4   dinesh         4       93     79      30   \n",
      "4             4           4      5   ashwin         5       65     80      40   \n",
      "5             5           5      6   jeevan         6       44     44      70   \n",
      "6             6           6      7      anu         7       88     93      88   \n",
      "7             7           7      8   mukesh         8       66     88      98   \n",
      "8             8           8      9   kishor         9       79     77      77   \n",
      "9             9           9     10     josh        10       80     65      66   \n",
      "\n",
      "   Science  Social  \n",
      "0       58      77  \n",
      "1       47      55  \n",
      "2       76      90  \n",
      "3       80      88  \n",
      "4       45      67  \n",
      "5       87      76  \n",
      "6       98      45  \n",
      "7       73      54  \n",
      "8       20      86  \n",
      "9       78      20  \n"
     ]
    }
   ],
   "source": [
    "#replace the values\n",
    "import pandas as pd\n",
    "n=pd.read_excel(\"/Users/student/Downloads/marksexcel.xlsx\")\n",
    "print(n)\n",
    "y=n.replace({89:88})\n",
    "print(y)\n",
    "y.to_excel(\"/Users/student/Downloads/marksexcel.xlsx\")"
   ]
  },
  {
   "cell_type": "code",
   "execution_count": 15,
   "id": "2c59353f-1c2e-4a87-8423-14a4dc181723",
   "metadata": {},
   "outputs": [
    {
     "name": "stdout",
     "output_type": "stream",
     "text": [
      "   Unnamed: 0.2  Unnamed: 0.1  Unnamed: 0  S.no.     Name  ...  English  \\\n",
      "1             1             1           1      2  C Mohan  ...       77   \n",
      "7             7             7           7      8   mukesh  ...       66   \n",
      "\n",
      "   Tamil  Maths   Science  Social  \n",
      "1     88      38       47      55  \n",
      "7     88      98       73      54  \n",
      "\n",
      "[2 rows x 11 columns]\n"
     ]
    }
   ],
   "source": [
    "#to extract using is in () fn\n",
    "df=pd.read_excel(\"/Users/student/Downloads/marksexcel.xlsx\")\n",
    "new=df['Tamil'].isin([88])\n",
    "print(df[new])"
   ]
  }
 ],
 "metadata": {
  "kernelspec": {
   "display_name": "Python [conda env:anaconda3]",
   "language": "python",
   "name": "conda-env-anaconda3-py"
  },
  "language_info": {
   "codemirror_mode": {
    "name": "ipython",
    "version": 3
   },
   "file_extension": ".py",
   "mimetype": "text/x-python",
   "name": "python",
   "nbconvert_exporter": "python",
   "pygments_lexer": "ipython3",
   "version": "3.11.3"
  }
 },
 "nbformat": 4,
 "nbformat_minor": 5
}
