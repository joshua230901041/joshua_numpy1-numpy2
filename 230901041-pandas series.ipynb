{
 "cells": [
  {
   "cell_type": "code",
   "execution_count": 2,
   "id": "4b248bf9-ea49-459b-a6cc-543a19911404",
   "metadata": {},
   "outputs": [
    {
     "name": "stdout",
     "output_type": "stream",
     "text": [
      "0    J\n",
      "1    o\n",
      "2    s\n",
      "3    h\n",
      "4    u\n",
      "5    a\n",
      "dtype: object\n"
     ]
    }
   ],
   "source": [
    "import pandas as pd\n",
    "import numpy as np\n",
    "a=np.array(['J','o','s','h','u','a'])\n",
    "a=pd.Series(a)\n",
    "print(a)"
   ]
  },
  {
   "cell_type": "code",
   "execution_count": 4,
   "id": "0583814e-bba8-4a92-b587-4601b0c2b23d",
   "metadata": {},
   "outputs": [
    {
     "name": "stdout",
     "output_type": "stream",
     "text": [
      "['J' 'o' 'e']\n"
     ]
    }
   ],
   "source": [
    "import pandas as pd\n",
    "import numpy as np\n",
    "a=np.array(['J','o','e'])\n",
    "print(a)"
   ]
  },
  {
   "cell_type": "code",
   "execution_count": 6,
   "id": "89c91ca3-585c-4b72-8106-aa82e0e38907",
   "metadata": {},
   "outputs": [
    {
     "name": "stdout",
     "output_type": "stream",
     "text": [
      "a    0\n",
      "b    1\n",
      "c    2\n",
      "dtype: int64\n"
     ]
    }
   ],
   "source": [
    "import pandas as pd\n",
    "import numpy as np\n",
    "a={'a':0,'b':1,'c':2}\n",
    "a=pd.Series(a)\n",
    "print(a)"
   ]
  },
  {
   "cell_type": "code",
   "execution_count": 8,
   "id": "9f57f747-4c58-42bf-b9ed-7f0b3f6d4669",
   "metadata": {},
   "outputs": [
    {
     "name": "stdout",
     "output_type": "stream",
     "text": [
      "0    4\n",
      "1    4\n",
      "2    4\n",
      "3    4\n",
      "dtype: int64\n"
     ]
    }
   ],
   "source": [
    "import numpy as np\n",
    "import pandas as pd\n",
    "a=pd.Series(4,index=[0,1,2,3])\n",
    "print(a)"
   ]
  },
  {
   "cell_type": "code",
   "execution_count": 10,
   "id": "7ad0fee2-b9fb-41e2-adf9-4ba13e8f2af4",
   "metadata": {},
   "outputs": [
    {
     "name": "stdout",
     "output_type": "stream",
     "text": [
      "\n",
      "A Series:\n",
      " 0    J\n",
      "1    o\n",
      "2    s\n",
      "3    h\n",
      "4    u\n",
      "5    a\n",
      "dtype: object\n",
      "\n",
      "Index:\n",
      " RangeIndex(start=0, stop=6, step=1)\n",
      "\n",
      "Values:\n",
      " ['J' 'o' 's' 'h' 'u' 'a']\n",
      "\n",
      "Shape:\n",
      " (6,)\n",
      "\n",
      "Dimension:\n",
      " 1\n",
      "\n",
      "Size:\n",
      " 6\n"
     ]
    }
   ],
   "source": [
    "import numpy as np\n",
    "import pandas as pd\n",
    "a=np.array(['J','o','s','h','u','a'])\n",
    "a=pd.Series(a)\n",
    "print(\"\\nA Series:\\n\",a)\n",
    "print(\"\\nIndex:\\n\",a.index)\n",
    "print(\"\\nValues:\\n\",a.values)\n",
    "print(\"\\nShape:\\n\",a.shape)\n",
    "print(\"\\nDimension:\\n\",a.ndim)\n",
    "print(\"\\nSize:\\n\",a.size)"
   ]
  }
 ],
 "metadata": {
  "kernelspec": {
   "display_name": "Python [conda env:anaconda3]",
   "language": "python",
   "name": "conda-env-anaconda3-py"
  },
  "language_info": {
   "codemirror_mode": {
    "name": "ipython",
    "version": 3
   },
   "file_extension": ".py",
   "mimetype": "text/x-python",
   "name": "python",
   "nbconvert_exporter": "python",
   "pygments_lexer": "ipython3",
   "version": "3.11.3"
  }
 },
 "nbformat": 4,
 "nbformat_minor": 5
}
