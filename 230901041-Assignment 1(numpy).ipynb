{
 "cells": [
  {
   "cell_type": "code",
   "execution_count": 9,
   "id": "3830d098",
   "metadata": {},
   "outputs": [
    {
     "name": "stdout",
     "output_type": "stream",
     "text": [
      "[[0.16484419 0.91730218 0.62152228 0.60792176]\n",
      " [0.09935802 0.42318826 0.73215717 0.01437961]\n",
      " [0.1523125  0.63224521 0.37340055 0.34119355]]\n"
     ]
    }
   ],
   "source": [
    "import numpy as np\n",
    "josh=np.random.random((3,4))\n",
    "print(josh)"
   ]
  },
  {
   "cell_type": "code",
   "execution_count": 8,
   "id": "f1f3baaf",
   "metadata": {},
   "outputs": [
    {
     "name": "stdout",
     "output_type": "stream",
     "text": [
      "[[0. 0. 0. 0.]\n",
      " [0. 0. 0. 0.]\n",
      " [0. 0. 0. 0.]]\n"
     ]
    }
   ],
   "source": [
    "import numpy as np\n",
    "joshua=np.zeros((3,4))\n",
    "print(joshua)"
   ]
  },
  {
   "cell_type": "code",
   "execution_count": 7,
   "id": "a37cff85",
   "metadata": {},
   "outputs": [
    {
     "name": "stdout",
     "output_type": "stream",
     "text": [
      "[ 5  7  9 11 13 15 17 19 21 23 25 27 29]\n"
     ]
    }
   ],
   "source": [
    "import numpy as np\n",
    "jos=np.arange(5,30,2)\n",
    "print(jos)"
   ]
  },
  {
   "cell_type": "code",
   "execution_count": 10,
   "id": "11a25ece",
   "metadata": {},
   "outputs": [
    {
     "name": "stdout",
     "output_type": "stream",
     "text": [
      "Dimension 2\n",
      "shape (2, 2)\n",
      "datatype int64\n"
     ]
    }
   ],
   "source": [
    "import numpy as np\n",
    "jo=np.array([[3,4],[4,5]])\n",
    "print(\"Dimension\",jo.ndim)\n",
    "print(\"shape\",jo.shape)\n",
    "print(\"datatype\",jo.dtype)"
   ]
  },
  {
   "cell_type": "code",
   "execution_count": 11,
   "id": "561eefe4",
   "metadata": {},
   "outputs": [
    {
     "name": "stdout",
     "output_type": "stream",
     "text": [
      "[3 4 4 5]\n"
     ]
    }
   ],
   "source": [
    "j=jo.flatten()\n",
    "print(j)"
   ]
  },
  {
   "cell_type": "code",
   "execution_count": null,
   "id": "f6daf051",
   "metadata": {},
   "outputs": [],
   "source": []
  }
 ],
 "metadata": {
  "kernelspec": {
   "display_name": "Python 3 (ipykernel)",
   "language": "python",
   "name": "python3"
  },
  "language_info": {
   "codemirror_mode": {
    "name": "ipython",
    "version": 3
   },
   "file_extension": ".py",
   "mimetype": "text/x-python",
   "name": "python",
   "nbconvert_exporter": "python",
   "pygments_lexer": "ipython3",
   "version": "3.11.5"
  }
 },
 "nbformat": 4,
 "nbformat_minor": 5
}
