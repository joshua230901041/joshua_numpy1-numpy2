{
 "cells": [
  {
   "cell_type": "code",
   "execution_count": 2,
   "id": "98518082-a049-4aac-b127-84a9d3d01aa5",
   "metadata": {},
   "outputs": [],
   "source": [
    "f=open(\"/Users/student/Downloads/josh.txt\",\"w\")\n",
    "f.write(\"Wakeup early\\n\")\n",
    "f.write(\"Read daily\\n\")\n",
    "f.write(\"Be punctual\\n\")\n",
    "f.close()"
   ]
  },
  {
   "cell_type": "code",
   "execution_count": 24,
   "id": "98b34270-a29b-4376-9b35-74c852a71932",
   "metadata": {},
   "outputs": [
    {
     "name": "stdout",
     "output_type": "stream",
     "text": [
      "Wakeup early\n",
      "\n",
      "Read daily\n",
      "\n",
      "Be punctual\n",
      "\n"
     ]
    }
   ],
   "source": [
    "a=open(\"/Users/student/Downloads/josh.txt\")\n",
    "print(a.readline())\n",
    "print(a.readline())\n",
    "print(a.readline())\n",
    "a.close()"
   ]
  },
  {
   "cell_type": "code",
   "execution_count": 22,
   "id": "dd4f2887-b4be-4527-ad56-ca6814fb53fb",
   "metadata": {},
   "outputs": [],
   "source": [
    "b=open(\"/Users/student/Downloads/josh.txt\",\"a\")\n",
    "b.write(\"Bavani\\n\")\n",
    "b.write(\"Rithika\\n\")\n",
    "b.close()"
   ]
  },
  {
   "cell_type": "code",
   "execution_count": 14,
   "id": "f7588bb2-a5c3-4345-bf9f-45a7b2e4f34a",
   "metadata": {},
   "outputs": [
    {
     "name": "stdout",
     "output_type": "stream",
     "text": [
      "Wakeup early\n",
      "Read daily\n",
      "Be punctual\n",
      "Bavani\n",
      "Rithika\n",
      "\n"
     ]
    }
   ],
   "source": [
    "c=open(\"/Users/student/Downloads/josh.txt\",\"r\")\n",
    "print(c.read())\n",
    "c.close()"
   ]
  },
  {
   "cell_type": "code",
   "execution_count": 18,
   "id": "a7ec11b8-a33a-4bf4-8208-f6be587f8916",
   "metadata": {},
   "outputs": [
    {
     "name": "stdout",
     "output_type": "stream",
     "text": [
      "['Wakeup early\\n', 'Read daily\\n', 'Be punctual\\n', 'Bavani\\n', 'Rithika\\n']\n"
     ]
    }
   ],
   "source": [
    "with open(\"/Users/student/Downloads/josh.txt\",\"r\") as file:\n",
    "    #lines=file.readlines()\n",
    "    print(file.readlines())"
   ]
  },
  {
   "cell_type": "code",
   "execution_count": null,
   "id": "676d4ee7-914d-4f7a-8d32-ef8c1c493b4f",
   "metadata": {},
   "outputs": [],
   "source": []
  },
  {
   "cell_type": "code",
   "execution_count": 3,
   "id": "29672533-9eb1-4c9d-a26d-8a38f7994472",
   "metadata": {},
   "outputs": [
    {
     "name": "stdout",
     "output_type": "stream",
     "text": [
      "Delhi\n",
      "\"{\\\"name\\\":\\\"sundar\\\",\\\"age\\\":\\\"25\\\",\\\"city\\\":\\\"Delhi\\\"}\"\n"
     ]
    }
   ],
   "source": [
    "import json\n",
    "x='{\"name\":\"sundar\",\"age\":\"25\",\"city\":\"Delhi\"}'\n",
    "y=json.loads(x)\n",
    "print(y[\"city\"])\n",
    "y=json.dumps(x)\n",
    "print(y)"
   ]
  },
  {
   "cell_type": "code",
   "execution_count": 5,
   "id": "2d677b7e-6fcc-4f6c-b6fc-06794691bf31",
   "metadata": {},
   "outputs": [
    {
     "name": "stdout",
     "output_type": "stream",
     "text": [
      "Mumbai\n"
     ]
    }
   ],
   "source": [
    "import json\n",
    "x='{\"Name\":\"Sundar\",\"Age\":\"25\",\"City\":\"Mumbai\"}'\n",
    "y=json.loads(x)\n",
    "print(y[\"City\"])"
   ]
  },
  {
   "cell_type": "code",
   "execution_count": 7,
   "id": "f8ca73ab-0e64-40b2-9b35-c264d6d66125",
   "metadata": {},
   "outputs": [
    {
     "name": "stdout",
     "output_type": "stream",
     "text": [
      "{\"Name\":\"Sundar\",\"Age\":\"25\",\"City\":\"Mumbai\"}\n"
     ]
    }
   ],
   "source": [
    "import json\n",
    "x='{\"Name\":\"Sundar\",\"Age\":\"25\",\"City\":\"Mumbai\"}'\n",
    "y=json.dumps(x)\n",
    "print(x)"
   ]
  }
 ],
 "metadata": {
  "kernelspec": {
   "display_name": "Python [conda env:anaconda3]",
   "language": "python",
   "name": "conda-env-anaconda3-py"
  },
  "language_info": {
   "codemirror_mode": {
    "name": "ipython",
    "version": 3
   },
   "file_extension": ".py",
   "mimetype": "text/x-python",
   "name": "python",
   "nbconvert_exporter": "python",
   "pygments_lexer": "ipython3",
   "version": "3.11.3"
  }
 },
 "nbformat": 4,
 "nbformat_minor": 5
}
