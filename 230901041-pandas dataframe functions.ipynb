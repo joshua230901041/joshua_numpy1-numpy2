{
 "cells": [
  {
   "cell_type": "code",
   "execution_count": 5,
   "id": "fe2436fa",
   "metadata": {},
   "outputs": [
    {
     "name": "stdout",
     "output_type": "stream",
     "text": [
      "\n",
      "Original Dataframe:\n",
      "    S  R\n",
      "0  3  9\n",
      "1  3  9\n",
      "2  3  9\n",
      "3  3  9\n",
      "\n",
      "Square root:\n",
      "           S    R\n",
      "0  1.732051  3.0\n",
      "1  1.732051  3.0\n",
      "2  1.732051  3.0\n",
      "3  1.732051  3.0\n",
      "\n",
      "Sum of each column:\n",
      " S    12\n",
      "R    36\n",
      "dtype: int64\n",
      "\n",
      "Sum of each row:\n",
      " 0    12\n",
      "1    12\n",
      "2    12\n",
      "3    12\n",
      "dtype: int64\n"
     ]
    }
   ],
   "source": [
    "import pandas as pd \n",
    "import numpy as np\n",
    "info=pd.DataFrame([[3,9]]*4,columns=['S','R'])\n",
    "print(\"\\nOriginal Dataframe:\\n\",info)\n",
    "print(\"\\nSquare root:\\n\",info.apply(np.sqrt))\n",
    "print(\"\\nSum of each column:\\n\",info.apply(np.sum,axis=0))\n",
    "print(\"\\nSum of each row:\\n\",info.apply(np.sum,axis=1))"
   ]
  },
  {
   "cell_type": "code",
   "execution_count": 6,
   "id": "94157268",
   "metadata": {},
   "outputs": [
    {
     "name": "stdout",
     "output_type": "stream",
     "text": [
      "   X  Y  Z\n",
      "0  2  4  6\n",
      "1  1  3  5\n",
      "2  5  8  7\n",
      "     X  Y  Z\n",
      "min  1  3  5\n",
      "max  5  8  7\n"
     ]
    }
   ],
   "source": [
    "import pandas as pd \n",
    "import numpy as np\n",
    "info=pd.DataFrame([[2,4,6],[1,3,5],[5,8,7]],columns=['X','Y','Z'])\n",
    "print(info)\n",
    "print(info.agg(['min','max']))"
   ]
  },
  {
   "cell_type": "code",
   "execution_count": 11,
   "id": "cd30bdd3",
   "metadata": {},
   "outputs": [
    {
     "name": "stdout",
     "output_type": "stream",
     "text": [
      "  EmpName  ID\n",
      "0     sai  88\n",
      "1   pooja  70\n",
      "Adding a new column:\n",
      "   EmpName  ID  Age\n",
      "0     sai  88   20\n",
      "1   pooja  70   18\n",
      "Adding a new column:\n",
      "   EmpName  ID   Sex\n",
      "0     sai  88  male\n",
      "1   pooja  70  male\n"
     ]
    }
   ],
   "source": [
    "import pandas as pd \n",
    "import numpy as np\n",
    "josh=pd.DataFrame([['sai',88],['pooja',70]],columns=['EmpName','ID'])\n",
    "print(josh)\n",
    "info=josh.assign(Age=[20,18])\n",
    "print(\"Adding a new column:\\n\",info)\n",
    "josh['Sex']=['male','male']\n",
    "print(\"Adding a new column:\\n\",josh)"
   ]
  },
  {
   "cell_type": "code",
   "execution_count": 2,
   "id": "7203bcf9",
   "metadata": {},
   "outputs": [
    {
     "name": "stdout",
     "output_type": "stream",
     "text": [
      "       col3      col4\n",
      "3  1.097004  0.288831\n",
      "2  0.915211 -0.032504\n",
      "0  0.599824  0.035994\n",
      "4  0.674965 -0.213927\n",
      "1  0.961055 -0.438558\n",
      "       col3      col4\n",
      "0  0.599824  0.035994\n",
      "1  0.961055 -0.438558\n",
      "2  0.915211 -0.032504\n",
      "3  1.097004  0.288831\n",
      "4  0.674965 -0.213927\n",
      "       col3      col4\n",
      "0  0.599824  0.035994\n",
      "4  0.674965 -0.213927\n",
      "2  0.915211 -0.032504\n",
      "1  0.961055 -0.438558\n",
      "3  1.097004  0.288831\n"
     ]
    }
   ],
   "source": [
    "import pandas as pd\n",
    "import numpy as np\n",
    "info=pd.DataFrame(np.random.randn(5,2),index=[3,2,0,4,1],columns=['col3','col4'])\n",
    "print(info)\n",
    "info2=info.sort_index()\n",
    "print(info2)\n",
    "info3=info.sort_values(by='col3')\n",
    "print(info3)"
   ]
  },
  {
   "cell_type": "code",
   "execution_count": 4,
   "id": "a53acbb6",
   "metadata": {},
   "outputs": [
    {
     "name": "stdout",
     "output_type": "stream",
     "text": [
      "   id   Name   sub\n",
      "0   1    sai  sub1\n",
      "1   2  pooja  sub2\n",
      "2   3   saba  sub4\n",
      "3   4   yuvi  sub3\n",
      "   id    Name   sub\n",
      "0   1  sanjay  sub2\n",
      "1   2   saran  sub4\n",
      "2   3     som  sub3\n",
      "3   4    ruba  sub1\n",
      "   id Name_x sub_x  Name_y sub_y\n",
      "0   1    sai  sub1  sanjay  sub2\n",
      "1   2  pooja  sub2   saran  sub4\n",
      "2   3   saba  sub4     som  sub3\n",
      "3   4   yuvi  sub3    ruba  sub1\n"
     ]
    }
   ],
   "source": [
    "import pandas as pd\n",
    "import numpy as np\n",
    "left=pd.DataFrame({'id':[1,2,3,4],'Name':['sai','pooja','saba','yuvi'],'sub':['sub1','sub2','sub4','sub3']})\n",
    "right=pd.DataFrame({'id':[1,2,3,4],'Name':['sanjay','saran','som','ruba'],'sub':['sub2','sub4','sub3','sub1']})\n",
    "print(left)\n",
    "print(right)\n",
    "print(pd.merge(left,right,on=\"id\"))"
   ]
  },
  {
   "cell_type": "code",
   "execution_count": null,
   "id": "b3952b10",
   "metadata": {},
   "outputs": [],
   "source": []
  }
 ],
 "metadata": {
  "kernelspec": {
   "display_name": "Python 3 (ipykernel)",
   "language": "python",
   "name": "python3"
  },
  "language_info": {
   "codemirror_mode": {
    "name": "ipython",
    "version": 3
   },
   "file_extension": ".py",
   "mimetype": "text/x-python",
   "name": "python",
   "nbconvert_exporter": "python",
   "pygments_lexer": "ipython3",
   "version": "3.11.5"
  }
 },
 "nbformat": 4,
 "nbformat_minor": 5
}
