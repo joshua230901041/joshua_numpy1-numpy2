{
 "cells": [
  {
   "cell_type": "code",
   "execution_count": 1,
   "id": "7e08cfb4-a760-4a7c-8468-3e4f199fd213",
   "metadata": {},
   "outputs": [
    {
     "name": "stdout",
     "output_type": "stream",
     "text": [
      "\n",
      "         one       two     three\n",
      "a -1.394938  0.653230  0.345824\n",
      "b -1.177816  0.273022 -2.873322\n",
      "c       NaN       NaN       NaN\n",
      "d -0.573905 -0.833243  0.251008\n",
      "e       NaN       NaN       NaN\n",
      "f  1.718662  0.766159 -0.390218\n",
      "\n",
      "\n",
      "\n",
      "         one       two     three\n",
      "a -1.394938  0.653230  0.345824\n",
      "b -1.177816  0.273022 -2.873322\n",
      "d -0.573905 -0.833243  0.251008\n",
      "f  1.718662  0.766159 -0.390218\n",
      "\n",
      "\n",
      "        one       two     three\n",
      "a -1.394938   0.65323  0.345824\n",
      "b -1.177816  0.273022 -2.873322\n",
      "c         0         0         0\n",
      "d -0.573905 -0.833243  0.251008\n",
      "e         0         0         0\n",
      "f  1.718662  0.766159 -0.390218 \n",
      "\n",
      "a    False\n",
      "b    False\n",
      "c     True\n",
      "d    False\n",
      "e     True\n",
      "f    False\n",
      "Name: one, dtype: bool \n",
      "\n",
      "        one       two     three\n",
      "a -1.394938  0.653230  0.345824\n",
      "b -1.177816  0.273022 -2.873322\n",
      "c -1.177816  0.273022 -2.873322\n",
      "d -0.573905 -0.833243  0.251008\n",
      "e -0.573905 -0.833243  0.251008\n",
      "f  1.718662  0.766159 -0.390218 \n",
      "\n",
      "        one       two     three\n",
      "a -1.394938  0.653230  0.345824\n",
      "b -1.177816  0.273022 -2.873322\n",
      "c -0.573905 -0.833243  0.251008\n",
      "d -0.573905 -0.833243  0.251008\n",
      "e  1.718662  0.766159 -0.390218\n",
      "f  1.718662  0.766159 -0.390218 \n",
      "\n"
     ]
    }
   ],
   "source": [
    "import pandas as pd\n",
    "import numpy as np\n",
    "df=pd.DataFrame(np.random.randn(4,3),index=['a','b','d','f'],columns=['one','two','three'])\n",
    "df=df.reindex(['a','b','c','d','e','f'])\n",
    "print(\"\\n\",df)\n",
    "print(\"\\n\")\n",
    "#to drop a number\n",
    "print(\"\\n\",df.dropna())\n",
    "print(\"\\n\")\n",
    "#fill NaN with 0\n",
    "print(df.fillna(\"0\"),\"\\n\")\n",
    "#NaN with true fill\n",
    "print(df['one'].isnull(),\"\\n\")\n",
    "#forward fill\n",
    "print(df.fillna(method='ffill'),\"\\n\")\n",
    "#backward fill\n",
    "print(df.fillna(method='bfill'),\"\\n\")"
   ]
  },
  {
   "cell_type": "code",
   "execution_count": 5,
   "id": "f9ab3265-3706-46f9-ab1c-b3aa6ee9802c",
   "metadata": {},
   "outputs": [
    {
     "name": "stdout",
     "output_type": "stream",
     "text": [
      "Original\n",
      "    one  two\n",
      "0   10   60\n",
      "1   20   70\n",
      "2   30   80\n",
      "3   40   90\n",
      "4   50  100\n",
      "   one  two\n",
      "0    5   60\n",
      "1   20   70\n",
      "2   30   80\n",
      "3   40   90\n",
      "4   90  100\n"
     ]
    }
   ],
   "source": [
    "import pandas as pd\n",
    "a=pd.DataFrame({'one':[10,20,30,40,50],'two':[60,70,80,90,100]})\n",
    "print(\"Original\\n\",a)\n",
    "print(a.replace({10:5,50:90}))"
   ]
  }
 ],
 "metadata": {
  "kernelspec": {
   "display_name": "Python [conda env:.conda-dlc]",
   "language": "python",
   "name": "conda-env-.conda-dlc-py"
  },
  "language_info": {
   "codemirror_mode": {
    "name": "ipython",
    "version": 3
   },
   "file_extension": ".py",
   "mimetype": "text/x-python",
   "name": "python",
   "nbconvert_exporter": "python",
   "pygments_lexer": "ipython3",
   "version": "3.11.4"
  }
 },
 "nbformat": 4,
 "nbformat_minor": 5
}
