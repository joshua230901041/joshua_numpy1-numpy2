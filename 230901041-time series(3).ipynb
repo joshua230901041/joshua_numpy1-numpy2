{
 "cells": [
  {
   "cell_type": "code",
   "execution_count": 1,
   "id": "6291728d-a204-4e5c-861e-74e9b3e92208",
   "metadata": {},
   "outputs": [
    {
     "name": "stdout",
     "output_type": "stream",
     "text": [
      "Date index: 2025-04-01   -0.232628\n",
      "2025-04-03    0.119274\n",
      "2025-04-06   -1.280820\n",
      "2025-04-09    0.097842\n",
      "2025-04-18   -1.672939\n",
      "2025-04-30   -1.479117\n",
      "dtype: float64\n"
     ]
    }
   ],
   "source": [
    "import pandas as pd\n",
    "import numpy as np\n",
    "from datetime import datetime\n",
    "dates=[datetime(2025,4,1),datetime(2025,4,3),datetime(2025,4,6),datetime(2025,4,9),datetime(2025,4,18),datetime(2025,4,30)]\n",
    "p=pd.Series(np.random.randn(6),index=dates)\n",
    "print(\"Date index:\",p)"
   ]
  },
  {
   "cell_type": "code",
   "execution_count": 3,
   "id": "dc4acf47-4517-4250-b648-a506e40cfa4d",
   "metadata": {},
   "outputs": [
    {
     "name": "stdout",
     "output_type": "stream",
     "text": [
      "Date index alone from Series:\n",
      " DatetimeIndex(['2025-04-01', '2025-04-03', '2025-04-06', '2025-04-09',\n",
      "               '2025-04-18', '2025-04-30'],\n",
      "              dtype='datetime64[ns]', freq=None)\n"
     ]
    }
   ],
   "source": [
    "print(\"Date index alone from Series:\\n\",p.index)"
   ]
  },
  {
   "cell_type": "code",
   "execution_count": 5,
   "id": "e6af7b89-ede1-4174-ab1e-9a3a40e0b5dc",
   "metadata": {},
   "outputs": [
    {
     "name": "stdout",
     "output_type": "stream",
     "text": [
      "Second index:\n",
      " 2025-04-06 00:00:00\n"
     ]
    }
   ],
   "source": [
    "s=p.index[2]\n",
    "print(\"Second index:\\n\",s)"
   ]
  },
  {
   "cell_type": "code",
   "execution_count": 7,
   "id": "9e25bf29-891d-4dc9-9082-62378a8ac007",
   "metadata": {},
   "outputs": [
    {
     "name": "stdout",
     "output_type": "stream",
     "text": [
      "Daterange upto 1000 days: 2024-12-14   -0.414700\n",
      "2024-12-15   -1.443575\n",
      "2024-12-16    1.386310\n",
      "2024-12-17    2.654248\n",
      "2024-12-18   -0.559064\n",
      "                ...   \n",
      "2027-09-05    0.282260\n",
      "2027-09-06   -0.022574\n",
      "2027-09-07   -0.556682\n",
      "2027-09-08   -1.531582\n",
      "2027-09-09    2.096241\n",
      "Freq: D, Length: 1000, dtype: float64\n"
     ]
    }
   ],
   "source": [
    "longer_p=pd.Series(np.random.randn(1000),index=pd.date_range(\"2024-12-14\",periods=1000))\n",
    "print(\"Daterange upto 1000 days:\",longer_p)"
   ]
  },
  {
   "cell_type": "code",
   "execution_count": 9,
   "id": "993bb5c1-607a-4e7d-bd2a-d0617e1e0964",
   "metadata": {},
   "outputs": [
    {
     "name": "stdout",
     "output_type": "stream",
     "text": [
      "Date range 2026year:\n",
      " 2026-01-01   -0.970489\n",
      "2026-01-02   -0.713592\n",
      "2026-01-03    0.709648\n",
      "2026-01-04    1.510933\n",
      "2026-01-05   -0.026500\n",
      "                ...   \n",
      "2026-12-27   -0.280760\n",
      "2026-12-28    1.692735\n",
      "2026-12-29    0.140415\n",
      "2026-12-30    0.181234\n",
      "2026-12-31   -0.907917\n",
      "Freq: D, Length: 365, dtype: float64\n"
     ]
    }
   ],
   "source": [
    "\n",
    "print(\"Date range 2026year:\\n\",longer_p[\"2026\"])"
   ]
  },
  {
   "cell_type": "code",
   "execution_count": 11,
   "id": "e660e537-5272-4b0f-af28-be0294747c5d",
   "metadata": {},
   "outputs": [
    {
     "name": "stdout",
     "output_type": "stream",
     "text": [
      "Date range 2026-10year:\n",
      " 2026-10-01   -0.846938\n",
      "2026-10-02    0.339136\n",
      "2026-10-03    0.575548\n",
      "2026-10-04    1.070038\n",
      "2026-10-05    0.668694\n",
      "2026-10-06   -1.780604\n",
      "2026-10-07    0.907603\n",
      "2026-10-08   -0.069027\n",
      "2026-10-09    0.084132\n",
      "2026-10-10   -0.428893\n",
      "2026-10-11    0.722493\n",
      "2026-10-12   -0.495999\n",
      "2026-10-13    0.261006\n",
      "2026-10-14   -0.451642\n",
      "2026-10-15    2.091230\n",
      "2026-10-16   -0.068625\n",
      "2026-10-17   -0.301162\n",
      "2026-10-18   -0.304811\n",
      "2026-10-19   -0.452868\n",
      "2026-10-20    0.356467\n",
      "2026-10-21   -0.634243\n",
      "2026-10-22   -0.202117\n",
      "2026-10-23   -1.200059\n",
      "2026-10-24    0.714064\n",
      "2026-10-25    1.530999\n",
      "2026-10-26    0.087397\n",
      "2026-10-27   -0.052202\n",
      "2026-10-28   -0.659065\n",
      "2026-10-29    1.786178\n",
      "2026-10-30   -0.698016\n",
      "2026-10-31    0.231559\n",
      "Freq: D, dtype: float64\n"
     ]
    }
   ],
   "source": [
    "print(\"Date range 2026-10year:\\n\",longer_p[\"2026-10\"])"
   ]
  },
  {
   "cell_type": "code",
   "execution_count": 13,
   "id": "4b0555ba-4e89-47cf-a910-62ccbd87f991",
   "metadata": {},
   "outputs": [
    {
     "name": "stdout",
     "output_type": "stream",
     "text": [
      "Few days in 2026:\n",
      " 2026-01-01   -0.970489\n",
      "2026-01-02   -0.713592\n",
      "2026-01-03    0.709648\n",
      "2026-01-04    1.510933\n",
      "2026-01-05   -0.026500\n",
      "Freq: D, dtype: float64\n"
     ]
    }
   ],
   "source": [
    "print(\"Few days in 2026:\\n\",longer_p[\"2026\"].head())"
   ]
  },
  {
   "cell_type": "code",
   "execution_count": 15,
   "id": "e95d0790-ab57-451e-834a-b1d25e9080e5",
   "metadata": {},
   "outputs": [
    {
     "name": "stdout",
     "output_type": "stream",
     "text": [
      "First 10 days in 2026:\n",
      " 2026-01-01   -0.970489\n",
      "2026-01-02   -0.713592\n",
      "2026-01-03    0.709648\n",
      "2026-01-04    1.510933\n",
      "2026-01-05   -0.026500\n",
      "2026-01-06   -2.459418\n",
      "2026-01-07    0.946312\n",
      "2026-01-08   -0.031610\n",
      "2026-01-09    0.538497\n",
      "2026-01-10   -0.567090\n",
      "Freq: D, dtype: float64\n"
     ]
    }
   ],
   "source": [
    "print(\"First 10 days in 2026:\\n\",longer_p[\"2026\"].head(10))"
   ]
  },
  {
   "cell_type": "code",
   "execution_count": 17,
   "id": "a4460397-2986-4529-8a0c-b93a089c92b9",
   "metadata": {},
   "outputs": [
    {
     "name": "stdout",
     "output_type": "stream",
     "text": [
      "date range-rom 09-09-2026:\n",
      " 2026-09-09    0.770517\n",
      "2026-09-10    0.302221\n",
      "2026-09-11   -0.019229\n",
      "2026-09-12    1.915513\n",
      "2026-09-13    2.403112\n",
      "                ...   \n",
      "2027-09-05    0.282260\n",
      "2027-09-06   -0.022574\n",
      "2027-09-07   -0.556682\n",
      "2027-09-08   -1.531582\n",
      "2027-09-09    2.096241\n",
      "Freq: D, Length: 366, dtype: float64\n"
     ]
    }
   ],
   "source": [
    "print(\"date range-rom 09-09-2026:\\n\",longer_p[datetime(2026,9,9):])"
   ]
  },
  {
   "cell_type": "code",
   "execution_count": 19,
   "id": "33a34b07-0493-4486-8485-a014d4864bb3",
   "metadata": {},
   "outputs": [
    {
     "name": "stdout",
     "output_type": "stream",
     "text": [
      "Date range from 09/09/2025 to 09/10/2025:\n",
      " 2025-09-09   -0.243494\n",
      "2025-09-10   -0.502982\n",
      "2025-09-11    0.766114\n",
      "2025-09-12   -0.231904\n",
      "2025-09-13    0.208404\n",
      "2025-09-14    0.156414\n",
      "2025-09-15   -0.721753\n",
      "2025-09-16    0.866372\n",
      "2025-09-17   -0.252604\n",
      "2025-09-18    1.263912\n",
      "2025-09-19    0.577874\n",
      "2025-09-20   -2.704838\n",
      "2025-09-21    1.511152\n",
      "2025-09-22    0.590226\n",
      "2025-09-23    1.369190\n",
      "2025-09-24    1.051898\n",
      "2025-09-25   -0.265464\n",
      "2025-09-26    0.307272\n",
      "2025-09-27    0.816074\n",
      "2025-09-28   -1.163624\n",
      "2025-09-29   -0.996739\n",
      "2025-09-30   -1.217190\n",
      "2025-10-01   -1.281826\n",
      "2025-10-02    2.891650\n",
      "2025-10-03   -0.831736\n",
      "2025-10-04    0.583367\n",
      "2025-10-05   -0.282174\n",
      "2025-10-06    0.550647\n",
      "2025-10-07   -1.106382\n",
      "2025-10-08    0.123862\n",
      "2025-10-09    0.529561\n",
      "Freq: D, dtype: float64\n"
     ]
    }
   ],
   "source": [
    "print(\"Date range from 09/09/2025 to 09/10/2025:\\n\",longer_p[datetime(2025,9,9):datetime(2025,10,9)])"
   ]
  },
  {
   "cell_type": "code",
   "execution_count": null,
   "id": "d1f4165e-12f8-4bc0-9100-ebdf2ca4e29f",
   "metadata": {},
   "outputs": [],
   "source": []
  }
 ],
 "metadata": {
  "kernelspec": {
   "display_name": "Python [conda env:base] *",
   "language": "python",
   "name": "conda-base-py"
  },
  "language_info": {
   "codemirror_mode": {
    "name": "ipython",
    "version": 3
   },
   "file_extension": ".py",
   "mimetype": "text/x-python",
   "name": "python",
   "nbconvert_exporter": "python",
   "pygments_lexer": "ipython3",
   "version": "3.12.7"
  }
 },
 "nbformat": 4,
 "nbformat_minor": 5
}
