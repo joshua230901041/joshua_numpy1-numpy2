{
 "cells": [
  {
   "cell_type": "code",
   "execution_count": 1,
   "id": "1b6b4db2-7b90-49ec-ade6-c2d65b637bca",
   "metadata": {},
   "outputs": [
    {
     "name": "stdout",
     "output_type": "stream",
     "text": [
      "Original DataFrame:\n",
      "          A      B  C  D\n",
      "0      Abi    One  0  3\n",
      "1     Babu    Two  5  2\n",
      "2  Charles  Three  5  4\n",
      "3   Darwin    One  0  5\n",
      "4      Abi    Two  6  5\n",
      "5  Charles  Three  0  5\n",
      "6   Darwin    One  6  3\n"
     ]
    }
   ],
   "source": [
    "import pandas as pd\n",
    "import numpy as np\n",
    "d=pd.DataFrame({'A':['Abi','Babu','Charles','Darwin','Abi','Charles','Darwin'],'B':['One','Two','Three','One','Two','Three','One'],'C':np.random.randint(7,size=7),'D':np.random.randint(7,size=7)})\n",
    "print(\"Original DataFrame:\\n\",d)"
   ]
  },
  {
   "cell_type": "code",
   "execution_count": 3,
   "id": "7423e396-6e96-4537-95e4-8f18050da037",
   "metadata": {},
   "outputs": [
    {
     "name": "stdout",
     "output_type": "stream",
     "text": [
      "\n",
      "Original Dataframe:\n",
      "          A      B  C  D\n",
      "0      Abi    One  0  3\n",
      "1     Babu    Two  5  2\n",
      "2  Charles  Three  5  4\n",
      "3   Darwin    One  0  5\n",
      "4      Abi    Two  6  5\n",
      "5  Charles  Three  0  5\n",
      "6   Darwin    One  6  3\n",
      "\n",
      "Grouped Dataframe with one column:\n",
      "          A  C\n",
      "0      Abi  6\n",
      "1     Babu  5\n",
      "2  Charles  5\n",
      "3   Darwin  6\n"
     ]
    }
   ],
   "source": [
    "d1=d.groupby(['A'],as_index=False)['C'].sum()\n",
    "print(\"\\nOriginal Dataframe:\\n\",d)\n",
    "print('\\nGrouped Dataframe with one column:\\n',d1)"
   ]
  },
  {
   "cell_type": "code",
   "execution_count": 5,
   "id": "66648bd5-6508-44d2-8a44-ba01ca812800",
   "metadata": {},
   "outputs": [
    {
     "name": "stdout",
     "output_type": "stream",
     "text": [
      "\n",
      "Original Dataframe:\n",
      "          A      B  C  D\n",
      "0      Abi    One  0  3\n",
      "1     Babu    Two  5  2\n",
      "2  Charles  Three  5  4\n",
      "3   Darwin    One  0  5\n",
      "4      Abi    Two  6  5\n",
      "5  Charles  Three  0  5\n",
      "6   Darwin    One  6  3\n",
      "\n",
      "Grouped Dataframe with two column:\n",
      "          A      B  C\n",
      "0      Abi    One  0\n",
      "1      Abi    Two  6\n",
      "2     Babu    Two  5\n",
      "3  Charles  Three  5\n",
      "4   Darwin    One  6\n"
     ]
    }
   ],
   "source": [
    "d1=d.groupby(['A','B'],as_index=False)['C'].sum()\n",
    "print(\"\\nOriginal Dataframe:\\n\",d)\n",
    "print('\\nGrouped Dataframe with two column:\\n',d1)"
   ]
  },
  {
   "cell_type": "code",
   "execution_count": 7,
   "id": "b915f708-8ca0-4677-8c82-f305f4cd6403",
   "metadata": {},
   "outputs": [
    {
     "name": "stdout",
     "output_type": "stream",
     "text": [
      "  Category  Sales  Profit\n",
      "0        A    100      10\n",
      "1        B    200      15\n",
      "2        C    150      20\n",
      "3        A    150      25\n",
      "4        B    130      30\n",
      "5        C    200      15\n",
      "         Sales        Profit    \n",
      "           sum   mean    sum max\n",
      "Category                        \n",
      "A          250  125.0     35  25\n",
      "B          330  165.0     45  30\n",
      "C          350  175.0     35  20\n"
     ]
    }
   ],
   "source": [
    "d=pd.DataFrame({'Category':['A','B','C','A','B','C'],'Sales':[100,200,150,150,130,200],'Profit':[10,15,20,25,30,15]})\n",
    "print(d)\n",
    "d1=d.groupby('Category').agg({'Sales':['sum','mean'],'Profit':['sum','max']})\n",
    "print(d1)"
   ]
  },
  {
   "cell_type": "code",
   "execution_count": null,
   "id": "b60c8621-ef38-47d9-a614-4edd60d88dd8",
   "metadata": {},
   "outputs": [],
   "source": []
  }
 ],
 "metadata": {
  "kernelspec": {
   "display_name": "Python [conda env:base] *",
   "language": "python",
   "name": "conda-base-py"
  },
  "language_info": {
   "codemirror_mode": {
    "name": "ipython",
    "version": 3
   },
   "file_extension": ".py",
   "mimetype": "text/x-python",
   "name": "python",
   "nbconvert_exporter": "python",
   "pygments_lexer": "ipython3",
   "version": "3.12.7"
  }
 },
 "nbformat": 4,
 "nbformat_minor": 5
}
